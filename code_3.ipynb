{
 "cells": [
  {
   "cell_type": "code",
   "execution_count": 1,
   "id": "33cdac24",
   "metadata": {},
   "outputs": [],
   "source": [
    "import tensorflow as tf\n",
    "from tensorflow.keras import models, layers\n",
    "from keras.preprocessing.image import ImageDataGenerator\n",
    "import matplotlib.pyplot as plt\n",
    "import numpy as np\n",
    "import pandas as pd"
   ]
  },
  {
   "cell_type": "code",
   "execution_count": 2,
   "id": "ce02d248",
   "metadata": {},
   "outputs": [],
   "source": [
    "img_size = 250\n",
    "input_shape = (img_size,img_size,3)\n",
    "batch_size = 8\n",
    "chanels = 3\n",
    "epochs = 30\n",
    "num_class = 3"
   ]
  },
  {
   "cell_type": "code",
   "execution_count": 4,
   "id": "8ed6ef05",
   "metadata": {},
   "outputs": [
    {
     "name": "stdout",
     "output_type": "stream",
     "text": [
      "Found 90 images belonging to 3 classes.\n"
     ]
    }
   ],
   "source": [
    "train_datagen = ImageDataGenerator(\n",
    "    rescale = 1./255,\n",
    "    horizontal_flip = True,\n",
    "    rotation_range = 10\n",
    ")\n",
    "\n",
    "\n",
    "train_generator  = train_datagen.flow_from_directory(\n",
    "    'dataset_2/train',\n",
    "    target_size = (img_size, img_size),\n",
    "    batch_size = batch_size,\n",
    "    class_mode = 'sparse'\n",
    ")"
   ]
  },
  {
   "cell_type": "code",
   "execution_count": 5,
   "id": "234b450c",
   "metadata": {},
   "outputs": [
    {
     "data": {
      "text/plain": [
       "['Bacterial leaf blight', 'Brown spot', 'Leaf smut']"
      ]
     },
     "execution_count": 5,
     "metadata": {},
     "output_type": "execute_result"
    }
   ],
   "source": [
    "class_name = list(train_generator.class_indices.keys())\n",
    "class_name"
   ]
  },
  {
   "cell_type": "code",
   "execution_count": 7,
   "id": "200ea214",
   "metadata": {},
   "outputs": [
    {
     "name": "stdout",
     "output_type": "stream",
     "text": [
      "Found 15 images belonging to 3 classes.\n"
     ]
    }
   ],
   "source": [
    "val_datagen = ImageDataGenerator(\n",
    "    rescale = 1./255,\n",
    "    horizontal_flip = True,\n",
    "    rotation_range = 10\n",
    ")\n",
    "\n",
    "\n",
    "val_generator  = train_datagen.flow_from_directory(\n",
    "    'dataset_2/val',\n",
    "    target_size = (img_size, img_size),\n",
    "    batch_size = batch_size,\n",
    "    class_mode = 'sparse'\n",
    ")\n",
    "  "
   ]
  },
  {
   "cell_type": "code",
   "execution_count": 8,
   "id": "30c84b42",
   "metadata": {},
   "outputs": [
    {
     "name": "stdout",
     "output_type": "stream",
     "text": [
      "Found 15 images belonging to 3 classes.\n"
     ]
    }
   ],
   "source": [
    "test_datagen = ImageDataGenerator(\n",
    "    rescale = 1./255,\n",
    "    horizontal_flip = True,\n",
    "    rotation_range = 10\n",
    ")\n",
    "\n",
    "\n",
    "test_generator  = train_datagen.flow_from_directory(\n",
    "    'dataset_2/test',\n",
    "    target_size = (img_size, img_size),\n",
    "    batch_size = batch_size,\n",
    "    class_mode = 'sparse'\n",
    ")"
   ]
  },
  {
   "cell_type": "code",
   "execution_count": 12,
   "id": "7abf1ef3",
   "metadata": {},
   "outputs": [],
   "source": [
    "model = models.Sequential([\n",
    "    layers.InputLayer(input_shape = input_shape),\n",
    "    layers.Conv2D(16, (3,3), activation = \"relu\"),\n",
    "    layers.MaxPooling2D((2,2)),\n",
    "    layers.Conv2D(32, (3,3), activation = \"relu\"),\n",
    "    layers.MaxPooling2D((2,2)),\n",
    "    layers.Conv2D(64, (3,3), activation = \"relu\"),\n",
    "    layers.MaxPooling2D((2,2)),\n",
    "    layers.Conv2D(64, (3,3), activation = \"relu\"),\n",
    "    layers.MaxPooling2D((2,2)),\n",
    "    layers.Flatten(),\n",
    "    layers.Dense(64, activation = \"relu\"),\n",
    "    layers.Dense(num_class, activation = \"softmax\")\n",
    "])"
   ]
  },
  {
   "cell_type": "code",
   "execution_count": 13,
   "id": "5294d83d",
   "metadata": {},
   "outputs": [],
   "source": [
    "model.compile(\n",
    "    optimizer = 'adam',\n",
    "    loss = tf.keras.losses.SparseCategoricalCrossentropy(from_logits = False),\n",
    "    metrics = ['accuracy']\n",
    ")"
   ]
  },
  {
   "cell_type": "code",
   "execution_count": 15,
   "id": "d21a3f63",
   "metadata": {},
   "outputs": [
    {
     "name": "stdout",
     "output_type": "stream",
     "text": [
      "Epoch 1/30\n",
      "12/20 [=================>............] - ETA: 3s - loss: 0.6191 - accuracy: 0.7778WARNING:tensorflow:Your input ran out of data; interrupting training. Make sure that your dataset or generator can generate at least `steps_per_epoch * epochs` batches (in this case, 600 batches). You may need to use the repeat() function when building your dataset.\n",
      "WARNING:tensorflow:Your input ran out of data; interrupting training. Make sure that your dataset or generator can generate at least `steps_per_epoch * epochs` batches (in this case, 5 batches). You may need to use the repeat() function when building your dataset.\n",
      "20/20 [==============================] - 8s 380ms/step - loss: 0.6191 - accuracy: 0.7778 - val_loss: 1.5599 - val_accuracy: 0.2667\n"
     ]
    }
   ],
   "source": [
    "history = model.fit(\n",
    "    train_generator,\n",
    "    steps_per_epoch = 20,  \n",
    "    batch_size = batch_size,\n",
    "    validation_data = val_generator,\n",
    "    validation_steps = 5,\n",
    "    verbose = 1,\n",
    "    epochs = epochs\n",
    ")"
   ]
  }
 ],
 "metadata": {
  "kernelspec": {
   "display_name": "Python 3 (ipykernel)",
   "language": "python",
   "name": "python3"
  },
  "language_info": {
   "codemirror_mode": {
    "name": "ipython",
    "version": 3
   },
   "file_extension": ".py",
   "mimetype": "text/x-python",
   "name": "python",
   "nbconvert_exporter": "python",
   "pygments_lexer": "ipython3",
   "version": "3.9.7"
  }
 },
 "nbformat": 4,
 "nbformat_minor": 5
}
